{
  "nbformat": 4,
  "nbformat_minor": 0,
  "metadata": {
    "colab": {
      "provenance": [],
      "collapsed_sections": [
        "XMwGoOsfObGO",
        "x0B2J9-zSCAs",
        "5XoVd5bP4mb5",
        "ZDvgqB2G5qEE",
        "NVsi8qD7GGBn",
        "MgUFiIKmJ4vn",
        "SjZwfFcS9_cC",
        "3umf2Y9SBqQj",
        "3XdDeia-EbvD",
        "bx8oVzvUKMqj"
      ],
      "authorship_tag": "ABX9TyMd8urcGhzfRLZnq5Ba1Xvl",
      "include_colab_link": true
    },
    "kernelspec": {
      "name": "python3",
      "display_name": "Python 3"
    },
    "language_info": {
      "name": "python"
    }
  },
  "cells": [
    {
      "cell_type": "markdown",
      "metadata": {
        "id": "view-in-github",
        "colab_type": "text"
      },
      "source": [
        "<a href=\"https://colab.research.google.com/github/AvinaashAnandK/DeepLearningJourney/blob/main/DeepML.ipynb\" target=\"_parent\"><img src=\"https://colab.research.google.com/assets/colab-badge.svg\" alt=\"Open In Colab\"/></a>"
      ]
    },
    {
      "cell_type": "markdown",
      "source": [
        "### **Index**\n",
        "\n",
        "| ID | Title | Difficulty | Category | Status |\n",
        "|----|-------|------------|----------|---------|\n",
        "| 1 | Matrix times Vector | **easy** | Linear Algebra | Solved |\n",
        "| 2 | Transpose of a Matrix | **easy** | Linear Algebra | Solved |\n",
        "| 3 | Reshape Matrix | **easy** | Linear Algebra | Solved |\n",
        "| 4 | Calculate Mean by Row or Column | **easy** | Linear Algebra | Solved |\n",
        "| 5 | Scalar Multiplication of a Matrix | **easy** | Linear Algebra | Solved |\n",
        "| 6 | Calculate Eigenvalues of a Matrix | **medium** | Linear Algebra | Unsolved |\n",
        "| 7 | Matrix Transformation | **medium** | Linear Algebra | Unsolved |\n",
        "| 8 | Calculate 2x2 Matrix Inverse | **medium** | Linear Algebra | Unsolved |\n",
        "| 9 | Matrix times Matrix | **medium** | Linear Algebra | Unsolved |\n",
        "| 10 | Singular Value Decomposition (SVD) | **hard** | Linear Algebra | Unsolved |\n",
        "| 11 | Solve Linear Equations using Jacobi Method | **medium** | Linear Algebra | Unsolved |\n",
        "| 12 | Singular Value Decomposition (SVD) | **hard** | Linear Algebra | Unsolved |\n",
        "| 13 | Determinant of a 4x4 Matrix using Laplace's Expansion (hard) | **hard** | Linear Algebra | Unsolved |\n",
        "| 14 | Linear Regression Using Normal Equation | **easy** | Machine Learning | Unsolved |\n",
        "| 15 | Linear Regression Using Gradient Descent | **easy** | Machine Learning | Unsolved |"
      ],
      "metadata": {
        "id": "Ltk-97VYO9DI"
      }
    },
    {
      "cell_type": "markdown",
      "source": [
        "# Question 1: Matrix times Vector\n",
        "\n",
        "---\n",
        "\n",
        "#### Write a Python function that takes the dot product of a matrix and a vector. return -1 if the matrix could not be dotted with the vector\n",
        "\n",
        "```\n",
        "Example:\n",
        "Input:\n",
        "a = [[1,2],[2,4]], b = [1,2]\n",
        "Output:\n",
        "[5, 10]\n",
        "Reasoning:\n",
        "1*1 + 2*2 = 5; 1*2+ 2*4 = 10\n",
        "```"
      ],
      "metadata": {
        "id": "XMwGoOsfObGO"
      }
    },
    {
      "cell_type": "code",
      "source": [
        "def matrix_dot_vector(a:list[list[int|float]],b:list[int|float])-> list[int|float]:\n",
        "  rows = len(a)\n",
        "  cols = len(a[0])\n",
        "  vector = len(b)\n",
        "\n",
        "  if cols != vector:\n",
        "    return -1\n",
        "\n",
        "  c = []\n",
        "\n",
        "  for i in range(rows):\n",
        "    prod = 0\n",
        "    for j in range(cols):\n",
        "      prod += a[i][j] * b [j]\n",
        "    c.append(prod)\n",
        "\n",
        "  return c"
      ],
      "metadata": {
        "id": "pjK_nFGQPv3d"
      },
      "execution_count": 12,
      "outputs": []
    },
    {
      "cell_type": "code",
      "source": [
        "a = [[1,2],[2,4]]; b = [1,2]"
      ],
      "metadata": {
        "id": "T9KpJ_zxRc96"
      },
      "execution_count": 13,
      "outputs": []
    },
    {
      "cell_type": "code",
      "source": [
        "matrix_dot_vector(a,b)"
      ],
      "metadata": {
        "colab": {
          "base_uri": "https://localhost:8080/"
        },
        "id": "LtRds9dIRgf4",
        "outputId": "11fab5be-c399-4456-c46f-e457a20c88b7"
      },
      "execution_count": 14,
      "outputs": [
        {
          "output_type": "execute_result",
          "data": {
            "text/plain": [
              "[5, 10]"
            ]
          },
          "metadata": {},
          "execution_count": 14
        }
      ]
    },
    {
      "cell_type": "markdown",
      "source": [
        "# Question 2: Transpose of a Matrix\n",
        "\n",
        "---\n",
        "\n",
        "#### Write a Python function that computes the transpose of a given matrix.\n",
        "\n",
        "Example:\n",
        "```\n",
        "Input:\n",
        "a = [[1,2,3],[4,5,6]]\n",
        "Output:\n",
        "[[1,4],[2,5],[3,6]]\n",
        "Reasoning:\n",
        "The transpose of a matrix is obtained by flipping rows and columns.\n",
        "```\n"
      ],
      "metadata": {
        "id": "x0B2J9-zSCAs"
      }
    },
    {
      "cell_type": "code",
      "source": [
        "def transpose_matrix(a: list[list[int|float]]) -> list[list[int|float]]:\n",
        "\tmat = []\n",
        "\trows = len(a)\n",
        "\tcols = len(a[0])\n",
        "\tfor j in range(cols):\n",
        "\t\ttemp = []\n",
        "\t\tfor i in range(rows):\n",
        "\t\t\ttemp.append(a[i][j])\n",
        "\t\tmat.append(temp)\n",
        "\treturn mat"
      ],
      "metadata": {
        "id": "WzmcbkhPSNf6"
      },
      "execution_count": 15,
      "outputs": []
    },
    {
      "cell_type": "markdown",
      "source": [
        "# Question 3: Write a Python function that reshapes a given matrix into a specified shape.\n",
        "\n",
        "---\n",
        "\n",
        "```\n",
        "Example:\n",
        "Input:\n",
        "a = [[1,2,3,4],[5,6,7,8]], new_shape = (4, 2)\n",
        "Output:\n",
        "[[1, 2], [3, 4], [5, 6], [7, 8]]\n",
        "Reasoning:\n",
        "The given matrix is reshaped from 2x4 to 4x2.\n",
        "```"
      ],
      "metadata": {
        "id": "5XoVd5bP4mb5"
      }
    },
    {
      "cell_type": "code",
      "source": [
        "import numpy as np\n",
        "\n",
        "def reshape_matrix(a: list[list[int|float]], new_shape: tuple[int, int]) -> list[list[int|float]]:\n",
        "\t#Write your code here and return a python list after reshaping by using numpy's tolist() method\n",
        "\tmat = []\n",
        "\trows = len(a)\n",
        "\tcols = len(a[0])\n",
        "\n",
        "\tfor row in a:\n",
        "\t\tmat.extend(row)\n",
        "\n",
        "\treshaped_matrix = []\n",
        "\n",
        "\tfor i in range(0,new_shape[0]*new_shape[1],new_shape[1]):\n",
        "\t\treshaped_matrix.append(mat[i:i+new_shape[1]])\n",
        "\n",
        "\treturn reshaped_matrix"
      ],
      "metadata": {
        "id": "XMKKRV4P4j0B"
      },
      "execution_count": 6,
      "outputs": []
    },
    {
      "cell_type": "code",
      "source": [
        "import numpy as np\n",
        "\n",
        "def reshape_matrix(a: list[list[int|float]], new_shape: tuple[int, int]) -> list[list[int|float]]:\n",
        "\t#Write your code here and return a python list after reshaping by using numpy's tolist() method\n",
        "\tmat = np.array(a)\n",
        "\treshaped_matrix = mat.reshape(new_shape)\n",
        "\n",
        "\treturn reshaped_matrix"
      ],
      "metadata": {
        "id": "h1naHkAm4jws"
      },
      "execution_count": null,
      "outputs": []
    },
    {
      "cell_type": "markdown",
      "source": [
        "# Question 4: Calculate Mean by Row or Column\n",
        "\n",
        "---\n",
        "Write a Python function that calculates the mean of a matrix either by row or by column, based on a given mode. The function should take a matrix (list of lists) and a mode ('row' or 'column') as input and return a list of means according to the specified mode.\n",
        "\n",
        "```\n",
        "Example:\n",
        "Input:\n",
        "matrix = [[1, 2, 3], [4, 5, 6], [7, 8, 9]], mode = 'column'\n",
        "Output:\n",
        "[4.0, 5.0, 6.0]\n",
        "Reasoning:\n",
        "Calculating the mean of each column results in [(1+4+7)/3, (2+5+8)/3, (3+6+9)/3].\n",
        "```"
      ],
      "metadata": {
        "id": "ZDvgqB2G5qEE"
      }
    },
    {
      "cell_type": "code",
      "source": [
        "def calculate_matrix_mean(matrix: list[list[float]], mode: str) -> list[float]:\n",
        "  means = []\n",
        "  if mode == 'row':\n",
        "    for row in matrix:\n",
        "      means.append(sum(row) / len(row))\n",
        "  elif mode == 'column':\n",
        "    for i in range(len(matrix[0])):\n",
        "      col = [row[i] for row in matrix]\n",
        "      means.append(sum(col)/len(col))\n",
        "  return means"
      ],
      "metadata": {
        "id": "Y1kvXrAE4juO"
      },
      "execution_count": null,
      "outputs": []
    },
    {
      "cell_type": "markdown",
      "source": [
        "# Question 5: Scalar Multiplication of a Matrix\n",
        "\n",
        "---\n",
        "Write a Python function that multiplies a matrix by a scalar and returns the result.\n",
        "\n",
        "```\n",
        "Example:\n",
        "Input:\n",
        "matrix = [[1, 2], [3, 4]], scalar = 2\n",
        "Output:\n",
        "[[2, 4], [6, 8]]\n",
        "Reasoning:\n",
        "Each element of the matrix is multiplied by the scalar.\n",
        "```"
      ],
      "metadata": {
        "id": "NVsi8qD7GGBn"
      }
    },
    {
      "cell_type": "code",
      "source": [
        "def scalar_multiply(matrix: list[list[int|float]], scalar: int|float) -> list[list[int|float]]:\n",
        "\treturn [[scalar * item for item in row] for row in matrix]"
      ],
      "metadata": {
        "id": "uZ9Kadmj4jrx"
      },
      "execution_count": 7,
      "outputs": []
    },
    {
      "cell_type": "markdown",
      "source": [
        "# Question 6: Calculate Eigenvalues of a Matrix\n",
        "\n",
        "---\n",
        "\n",
        "Write a Python function that calculates the eigenvalues of a 2x2 matrix. The function should return a list containing the eigenvalues, sort values from highest to lowest.\n",
        "\n",
        "```\n",
        "Example:\n",
        "Input:\n",
        "matrix = [[2, 1], [1, 2]]\n",
        "Output:\n",
        "[3.0, 1.0]\n",
        "```"
      ],
      "metadata": {
        "id": "MgUFiIKmJ4vn"
      }
    },
    {
      "cell_type": "code",
      "source": [],
      "metadata": {
        "id": "BsDxmqrG4jph"
      },
      "execution_count": null,
      "outputs": []
    },
    {
      "cell_type": "code",
      "source": [],
      "metadata": {
        "id": "wllmBXHd4jnB"
      },
      "execution_count": null,
      "outputs": []
    },
    {
      "cell_type": "markdown",
      "source": [
        "# Question 11: Solve Linear Equations using Jacobi Method\n",
        "\n",
        "---\n",
        "\n",
        "Write a Python function that uses the Jacobi method to solve a system of linear equations given by Ax = b. The function should iterate n times, rounding each intermediate solution to four decimal places, and return the approximate solution x.\n",
        "\n",
        "```\n",
        "Example:\n",
        "Input:\n",
        "A = [[5, -2, 3], [-3, 9, 1], [2, -1, -7]], b = [-1, 2, 3], n=2\n",
        "Output:\n",
        "[0.146, 0.2032, -0.5175]\n",
        "Reasoning:\n",
        "The Jacobi method iteratively solves each equation for x[i] using the formula x[i] = (1/a_ii) * (b[i] - sum(a_ij * x[j] for j != i)), where a_ii is the diagonal element of A and a_ij are the off-diagonal elements.\n",
        "```"
      ],
      "metadata": {
        "id": "SjZwfFcS9_cC"
      }
    },
    {
      "cell_type": "code",
      "source": [
        "import numpy as np\n",
        "def solve_jacobi(A: np.ndarray, b: np.ndarray, n: int) -> list:\n",
        "  x = np.zeros(len(A))\n",
        "  x_temp = np.zeros(len(A))\n",
        "\n",
        "  for step in range(n):\n",
        "    for i,x_old in enumerate(x):\n",
        "      x_new = (b[i] - np.sum([A[i][j]*x[j] for j in range(len(x)) if j != i]))/ A[i][i]\n",
        "      x_temp[i] = x_new\n",
        "\n",
        "    x = x_temp.copy()\n",
        "\n",
        "  return np.round(x,4).tolist()"
      ],
      "metadata": {
        "id": "u9-W73MP4jkk"
      },
      "execution_count": 18,
      "outputs": []
    },
    {
      "cell_type": "markdown",
      "source": [
        "# Question 12: Singular Value Decomposition\n",
        "\n",
        "---\n",
        "\n",
        "Write a Python function that approximates the Singular Value Decomposition on a 2x2 matrix. Return the result the results as a tuple with U, sigma and V.\n",
        "\n",
        "```\n",
        "Example:\n",
        "Input:\n",
        "a = [[2, 1], [1, 2]]\n",
        "Output:\n",
        "(array([[ 0.70710678, -0.70710678],\n",
        "       [ 0.70710678,  0.70710678]]),\n",
        " array([3., 1.]),\n",
        " array([[ 0.70710678,  0.70710678],\n",
        "       [-0.70710678,  0.70710678]]))\n",
        "Reasoning:\n",
        "U is the first matrix, sigma is the second vector, and V is the third matrix.\n",
        "```"
      ],
      "metadata": {
        "id": "3umf2Y9SBqQj"
      }
    },
    {
      "cell_type": "code",
      "source": [
        "a = [[2, 1], [1, 2]]"
      ],
      "metadata": {
        "id": "WaukjYmg5YC2"
      },
      "execution_count": 1,
      "outputs": []
    },
    {
      "cell_type": "code",
      "source": [
        "#Straight forward implementation using numpy\n",
        "import numpy as np\n",
        "def svd_2x2_singular_values(A: np.ndarray) -> tuple:\n",
        "  U,s,vt =np.linalg.svd(A, full_matrices=False)\n",
        "  v = vt.T\n",
        "  return (U,s,v)"
      ],
      "metadata": {
        "id": "onof24Fg5Cf4"
      },
      "execution_count": 16,
      "outputs": []
    },
    {
      "cell_type": "code",
      "source": [
        "#Considering all elements\n",
        "import numpy as np\n",
        "def svd_2x2_singular_values(A: np.ndarray) -> tuple:\n",
        "  a = A\n",
        "  b = a.T @ a\n",
        "  iterations = 1\n",
        "  # error = 1e-7\n",
        "  v = np.eye(len(A))\n",
        "  for iter in range(iterations):\n",
        "      #Calculate the rotation angle\n",
        "      theta = 0.5 * np.arctan2(2*b[0,1],b[0,0]-b[1,1])\n",
        "\n",
        "      #Calculate the rotation matrix\n",
        "      r = np.array(\n",
        "          [\n",
        "              [np.cos(theta), -np.sin(theta)],\n",
        "              [np.sin(theta), np.cos(theta)]\n",
        "          ]\n",
        "      )\n",
        "\n",
        "      b = r.T @ b @ r\n",
        "\n",
        "      v = v @ r\n",
        "\n",
        "  s = np.sqrt(np.diag(b))\n",
        "  idx = np.argsort(s)[::-1]\n",
        "\n",
        "  s = s[idx]\n",
        "  v = v[:, idx]\n",
        "\n",
        "  U = a @ v / s\n",
        "\n",
        "  return (U,s,v.T)"
      ],
      "metadata": {
        "id": "MN2AjTVh5aED"
      },
      "execution_count": 18,
      "outputs": []
    },
    {
      "cell_type": "code",
      "source": [],
      "metadata": {
        "id": "eE37IA_P__ZJ"
      },
      "execution_count": null,
      "outputs": []
    },
    {
      "cell_type": "markdown",
      "source": [
        "# Question 13: Determinant of a 4x4 Matrix using Laplace's Expansion (hard)\n",
        "\n",
        "\n",
        "---\n",
        "\n",
        "Write a Python function that calculates the determinant of a 4x4 matrix using Laplace's Expansion method. The function should take a single argument, a 4x4 matrix represented as a list of lists, and return the determinant of the matrix. The elements of the matrix can be integers or floating-point numbers. Implement the function recursively to handle the computation of determinants for the 3x3 minor matrices.\n",
        "\n",
        "```\n",
        "Example:\n",
        "Input:\n",
        "a = [[1,2,3,4],[5,6,7,8],[9,10,11,12],[13,14,15,16]]\n",
        "Output:\n",
        "0\n",
        "\n",
        "```\n",
        "Reasoning:\n",
        "Using Laplace's Expansion, the determinant of a 4x4 matrix is calculated by expanding it into minors and cofactors along any row or column. Given the symmetrical and linear nature of this specific matrix, its determinant is 0. The calculation for a generic 4x4 matrix involves more complex steps, breaking it down into the determinants of 3x3 matrices."
      ],
      "metadata": {
        "id": "3XdDeia-EbvD"
      }
    },
    {
      "cell_type": "code",
      "source": [
        "a = [[1,2,3,4],[5,6,7,8],[9,10,11,12],[13,14,15,16]]"
      ],
      "metadata": {
        "id": "e7ilodH_EpqV"
      },
      "execution_count": 38,
      "outputs": []
    },
    {
      "cell_type": "code",
      "source": [
        "import numpy as np\n",
        "\n",
        "def determinant_4x4(matrix: list[list[int|float]]) -> float:\n",
        "  matrix = np.array(matrix)\n",
        "  n = matrix.shape[0]\n",
        "\n",
        "  if n <= 2:\n",
        "    return (-matrix[0,1]*matrix[1,0]) + (matrix[0,0]*matrix[1,1])\n",
        "  else:\n",
        "    det = 0\n",
        "    for i in range(n):\n",
        "      sliced_matrix = matrix[np.array(list(range(1)) + list(range(1+1, matrix.shape[0])))[:, np.newaxis], np.array(list(range(i)) + list(range(i+1, matrix.shape[1])))]\n",
        "      det += (-1)**(i) * matrix[1,i] * determinant_4x4(sliced_matrix)\n",
        "\n",
        "  return det"
      ],
      "metadata": {
        "id": "TCXKEmmMEbUv"
      },
      "execution_count": 39,
      "outputs": []
    },
    {
      "cell_type": "code",
      "source": [
        "determinant_4x4(a)"
      ],
      "metadata": {
        "colab": {
          "base_uri": "https://localhost:8080/"
        },
        "id": "H-EqK06RFG6C",
        "outputId": "06eeea44-0450-4944-ffbf-ced16730c4e0"
      },
      "execution_count": 40,
      "outputs": [
        {
          "output_type": "execute_result",
          "data": {
            "text/plain": [
              "0"
            ]
          },
          "metadata": {},
          "execution_count": 40
        }
      ]
    },
    {
      "cell_type": "markdown",
      "source": [
        "# Question 14: Linear Regression Using Normal Equation\n",
        "\n",
        "\n",
        "---\n",
        "\n",
        "Write a Python function that performs linear regression using the normal equation. The function should take a matrix X (features) and a vector y (target) as input, and return the coefficients of the linear regression model. Round your answer to four decimal places, -0.0 is a valid result for rounding a very small number.\n",
        "\n",
        "```\n",
        "Example:\n",
        "Input:\n",
        "X = [[1, 1], [1, 2], [1, 3]], y = [1, 2, 3]\n",
        "Output:\n",
        "[0.0, 1.0]\n",
        "\n",
        "```"
      ],
      "metadata": {
        "id": "bx8oVzvUKMqj"
      }
    },
    {
      "cell_type": "code",
      "source": [
        "X = [[1, 1], [1, 2], [1, 3]]; y = [1, 2, 3]"
      ],
      "metadata": {
        "id": "cE0fI3xUOT5R"
      },
      "execution_count": 3,
      "outputs": []
    },
    {
      "cell_type": "code",
      "source": [
        "import numpy as np\n",
        "def linear_regression_normal_equation(X: list[list[float]], y: list[float]) -> list[float]:\n",
        "\tx = np.array(X)\n",
        "\ty = np.array(y)\n",
        "\ty = y.reshape(-1,1)\n",
        "\ttheta = np.round(np.linalg.inv(x.T @ x) @ x.T @ y,4).flatten().tolist()\n",
        "\treturn theta"
      ],
      "metadata": {
        "id": "2MZa7A2RKO22"
      },
      "execution_count": 2,
      "outputs": []
    },
    {
      "cell_type": "markdown",
      "source": [
        "# Question 15: Linear Regression Using Gradient Descent\n",
        "\n",
        "---\n",
        "\n",
        "Write a Python function that performs linear regression using gradient descent. The function should take NumPy arrays X (features with a column of ones for the intercept) and y (target) as input, along with learning rate alpha and the number of iterations, and return the coefficients of the linear regression model as a NumPy array. Round your answer to four decimal places. -0.0 is a valid result for rounding a very small number.\n",
        "\n",
        "\n",
        "```\n",
        "Input:\n",
        "X = np.array([[1, 1], [1, 2], [1, 3]]), y = np.array([1, 2, 3]), alpha = 0.01, iterations = 1000\n",
        "Output:\n",
        "np.array([0.1107, 0.9513])\n",
        "Reasoning:\n",
        "The linear model is y = 0.0 + 1.0*x, which fits the input data after gradient descent optimization.\n",
        "```"
      ],
      "metadata": {
        "id": "d7lE34_PQ3T7"
      }
    },
    {
      "cell_type": "code",
      "source": [],
      "metadata": {
        "id": "1ptVFK6URDKD"
      },
      "execution_count": null,
      "outputs": []
    },
    {
      "cell_type": "markdown",
      "source": [
        "# Question 16: Feature Scaling Implementation\n",
        "\n",
        "---\n",
        "\n",
        "Write a Python function that performs feature scaling on a dataset using both standardization and min-max normalization. The function should take a 2D NumPy array as input, where each row represents a data sample and each column represents a feature. It should return two 2D NumPy arrays: one scaled by standardization and one by min-max normalization. Make sure all results are rounded to the nearest 4th decimal.\n",
        "\n",
        "\n",
        "```\n",
        "Input:\n",
        "data = np.array([[1, 2], [3, 4], [5, 6]])\n",
        "Output:\n",
        "([[-1.2247, -1.2247], [0.0, 0.0], [1.2247, 1.2247]], [[0.0, 0.0], [0.5, 0.5], [1.0, 1.0]])\n",
        "Reasoning:\n",
        "Standardization rescales the feature to have a mean of 0 and a standard deviation of 1. Min-max normalization rescales the feature to a range of [0, 1], where the minimum feature value maps to 0 and the maximum to 1.\n",
        "```"
      ],
      "metadata": {
        "id": "xicHaay2hRV_"
      }
    },
    {
      "cell_type": "code",
      "source": [],
      "metadata": {
        "id": "uylxKAw6hdco"
      },
      "execution_count": null,
      "outputs": []
    },
    {
      "cell_type": "markdown",
      "source": [
        "# Question 16: K-Means Clustering\n",
        "\n",
        "---\n",
        "\n",
        "Your task is to write a Python function that implements the k-Means clustering algorithm. This function should take specific inputs and produce a list of final centroids. k-Means clustering is a method used to partition n points into k clusters. The goal is to group similar points together and represent each group by its center (called the centroid).\n",
        "\n",
        "Function Inputs:\n",
        "points: A list of points, where each point is a tuple of coordinates (e.g., (x, y) for 2D points)\n",
        "k: An integer representing the number of clusters to form\n",
        "initial_centroids: A list of initial centroid points, each a tuple of coordinates\n",
        "max_iterations: An integer representing the maximum number of iterations to perform\n",
        "Function Output:\n",
        "A list of the final centroids of the clusters, where each centroid is rounded to the nearest fourth decimal.\n",
        "\n",
        "```\n",
        "Input:\n",
        "points = [(1, 2), (1, 4), (1, 0), (10, 2), (10, 4), (10, 0)], k = 2, initial_centroids = [(1, 1), (10, 1)], max_iterations = 10\n",
        "Output:\n",
        "[(1, 2), (10, 2)]\n",
        "Reasoning:\n",
        "Given the initial centroids and a maximum of 10 iterations, the points are clustered around these points, and the centroids are updated to the mean of the assigned points, resulting in the final centroids which approximate the means of the two clusters. The exact number of iterations needed may vary, but the process will stop after 10 iterations at most.\n",
        "```\n",
        "\n"
      ],
      "metadata": {
        "id": "_Ht0mO4Uhebj"
      }
    },
    {
      "cell_type": "code",
      "source": [],
      "metadata": {
        "id": "zm6Wz49Khqdj"
      },
      "execution_count": null,
      "outputs": []
    }
  ]
}